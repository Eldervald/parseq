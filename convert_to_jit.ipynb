{
 "cells": [
  {
   "cell_type": "code",
   "execution_count": 1,
   "metadata": {},
   "outputs": [],
   "source": [
    "%load_ext autoreload\n",
    "%autoreload 2"
   ]
  },
  {
   "cell_type": "code",
   "execution_count": 2,
   "metadata": {},
   "outputs": [],
   "source": [
    "import torch\n",
    "from strhub.models.utils import load_from_checkpoint"
   ]
  },
  {
   "cell_type": "code",
   "execution_count": 13,
   "metadata": {},
   "outputs": [
    {
     "name": "stdout",
     "output_type": "stream",
     "text": [
      "Loaded model from checkpoint:  outputs/parseq256/2024-08-22_22-51-51/epoch=9-step=2575-val_accuracy=88.1011-val_NED=95.2766.ckpt\n"
     ]
    }
   ],
   "source": [
    "module = load_from_checkpoint('outputs/parseq256/2024-08-22_22-51-51/epoch=9-step=2575-val_accuracy=88.1011-val_NED=95.2766.ckpt')\n",
    "delattr(module, 'metrics')\n",
    "parseq_jit = module.to_torchscript()"
   ]
  },
  {
   "cell_type": "code",
   "execution_count": 26,
   "metadata": {},
   "outputs": [],
   "source": [
    "# test\n",
    "\n",
    "parseq_jit.cuda()\n",
    "assert parseq_jit(torch.randn(1, 3, 32, 256).cuda()).shape, (1, 26, 71)\n",
    "parseq_jit.cpu()\n",
    "assert parseq_jit(torch.randn(1, 3, 32, 256).cpu()).shape, (1, 26, 71)"
   ]
  },
  {
   "cell_type": "code",
   "execution_count": 18,
   "metadata": {},
   "outputs": [],
   "source": [
    "torch.jit.save(parseq_jit, 'model_weights/parseq256_jit_22.08.2024.pt')"
   ]
  }
 ],
 "metadata": {
  "kernelspec": {
   "display_name": "Python 3 (ipykernel)",
   "language": "python",
   "name": "python3"
  },
  "language_info": {
   "codemirror_mode": {
    "name": "ipython",
    "version": 3
   },
   "file_extension": ".py",
   "mimetype": "text/x-python",
   "name": "python",
   "nbconvert_exporter": "python",
   "pygments_lexer": "ipython3",
   "version": "3.10.12"
  }
 },
 "nbformat": 4,
 "nbformat_minor": 4
}
